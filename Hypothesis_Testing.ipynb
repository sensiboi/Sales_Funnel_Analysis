{
  "nbformat": 4,
  "nbformat_minor": 0,
  "metadata": {
    "colab": {
      "provenance": [],
      "authorship_tag": "ABX9TyPk15xv5aJ9irUnM31kAwkW",
      "include_colab_link": true
    },
    "kernelspec": {
      "name": "python3",
      "display_name": "Python 3"
    },
    "language_info": {
      "name": "python"
    }
  },
  "cells": [
    {
      "cell_type": "markdown",
      "metadata": {
        "id": "view-in-github",
        "colab_type": "text"
      },
      "source": [
        "<a href=\"https://colab.research.google.com/github/sensiboi/Sales_Funnel_Analysis/blob/main/Hypothesis_Testing.ipynb\" target=\"_parent\"><img src=\"https://colab.research.google.com/assets/colab-badge.svg\" alt=\"Open In Colab\"/></a>"
      ]
    },
    {
      "cell_type": "markdown",
      "source": [
        "# **HYPOTHESIS TESTING**"
      ],
      "metadata": {
        "id": "-O1y1jtZtnNM"
      }
    },
    {
      "cell_type": "markdown",
      "source": [
        "Import Libraries"
      ],
      "metadata": {
        "id": "dWMx2MXntx5y"
      }
    },
    {
      "cell_type": "code",
      "execution_count": 39,
      "metadata": {
        "id": "q6_6roLPsDXl"
      },
      "outputs": [],
      "source": [
        "import pandas as pd\n",
        "from scipy import stats\n",
        "from scipy.stats import chi2_contingency"
      ]
    },
    {
      "cell_type": "markdown",
      "source": [
        "Load Datasets"
      ],
      "metadata": {
        "id": "hDEp39__t779"
      }
    },
    {
      "cell_type": "code",
      "source": [
        "mql = pd.read_csv(\"olist_marketing_qualified_leads_dataset.csv\")\n",
        "deals = pd.read_csv(\"olist_closed_deals_dataset.csv\")"
      ],
      "metadata": {
        "id": "gwzBYviSt55g"
      },
      "execution_count": 40,
      "outputs": []
    },
    {
      "cell_type": "markdown",
      "source": [
        "Merge Datasets"
      ],
      "metadata": {
        "id": "c05wbvZiuPGd"
      }
    },
    {
      "cell_type": "code",
      "source": [
        "df = pd.merge(mql, deals, on=\"mql_id\", how=\"left\")"
      ],
      "metadata": {
        "id": "NuDwpqykuMqv"
      },
      "execution_count": 41,
      "outputs": []
    },
    {
      "cell_type": "markdown",
      "source": [
        "Create binary conversion column"
      ],
      "metadata": {
        "id": "WkEZ1J3GuhTP"
      }
    },
    {
      "cell_type": "code",
      "source": [
        "df[\"converted\"] = df[\"seller_id\"].notna().astype(int)"
      ],
      "metadata": {
        "id": "cB7XYDWFuWHZ"
      },
      "execution_count": 42,
      "outputs": []
    },
    {
      "cell_type": "markdown",
      "source": [
        "Clean numeric columns"
      ],
      "metadata": {
        "id": "M3fa4yp9u_qD"
      }
    },
    {
      "cell_type": "code",
      "source": [
        "df[\"declared_product_catalog_size\"] = pd.to_numeric(df[\"declared_product_catalog_size\"], errors=\"coerce\")\n",
        "df[\"declared_monthly_revenue\"] = pd.to_numeric(df[\"declared_monthly_revenue\"], errors=\"coerce\")"
      ],
      "metadata": {
        "id": "O61ebdi8uvmE"
      },
      "execution_count": 43,
      "outputs": []
    },
    {
      "cell_type": "markdown",
      "source": [
        "Drop missing numeric rows for T test"
      ],
      "metadata": {
        "id": "6BnOLXEjvG6a"
      }
    },
    {
      "cell_type": "code",
      "source": [
        "df_clean = df.dropna(subset=[\"declared_product_catalog_size\", \"declared_monthly_revenue\"])\n",
        "df_clean = df_clean[df_clean['declared_product_catalog_size'] > 0]\n",
        "df_clean = df_clean[df_clean['declared_monthly_revenue'] > 0]"
      ],
      "metadata": {
        "id": "oGhZjaGmvDRV"
      },
      "execution_count": 44,
      "outputs": []
    },
    {
      "cell_type": "code",
      "source": [
        "print(df_clean[['declared_product_catalog_size', 'declared_monthly_revenue']].describe())\n",
        "print(df_clean.dtypes)\n",
        "print(df_clean.isna().sum())"
      ],
      "metadata": {
        "colab": {
          "base_uri": "https://localhost:8080/"
        },
        "id": "0CLeOsv9zdhs",
        "outputId": "6c360ee6-69fb-4ce2-846c-2afec678ca05"
      },
      "execution_count": 45,
      "outputs": [
        {
          "output_type": "stream",
          "name": "stdout",
          "text": [
            "       declared_product_catalog_size  declared_monthly_revenue\n",
            "count                      45.000000              4.500000e+01\n",
            "mean                      227.488889              1.372978e+06\n",
            "std                       357.144395              7.507545e+06\n",
            "min                         2.000000              6.000000e+00\n",
            "25%                        40.000000              1.500000e+04\n",
            "50%                        75.000000              5.000000e+04\n",
            "75%                       300.000000              1.300000e+05\n",
            "max                      2000.000000              5.000000e+07\n",
            "mql_id                            object\n",
            "first_contact_date                object\n",
            "landing_page_id                   object\n",
            "origin                            object\n",
            "seller_id                         object\n",
            "sdr_id                            object\n",
            "sr_id                             object\n",
            "won_date                          object\n",
            "business_segment                  object\n",
            "lead_type                         object\n",
            "lead_behaviour_profile            object\n",
            "has_company                       object\n",
            "has_gtin                          object\n",
            "average_stock                     object\n",
            "business_type                     object\n",
            "declared_product_catalog_size    float64\n",
            "declared_monthly_revenue         float64\n",
            "converted                          int64\n",
            "dtype: object\n",
            "mql_id                            0\n",
            "first_contact_date                0\n",
            "landing_page_id                   0\n",
            "origin                            2\n",
            "seller_id                         0\n",
            "sdr_id                            0\n",
            "sr_id                             0\n",
            "won_date                          0\n",
            "business_segment                  0\n",
            "lead_type                         0\n",
            "lead_behaviour_profile            3\n",
            "has_company                      15\n",
            "has_gtin                         14\n",
            "average_stock                    13\n",
            "business_type                     0\n",
            "declared_product_catalog_size     0\n",
            "declared_monthly_revenue          0\n",
            "converted                         0\n",
            "dtype: int64\n"
          ]
        }
      ]
    },
    {
      "cell_type": "code",
      "source": [
        "print(df_clean[['declared_product_catalog_size', 'declared_monthly_revenue']].info())\n",
        "print(df_clean[['declared_product_catalog_size', 'declared_monthly_revenue']].head(10))\n",
        "print(df_clean[['declared_product_catalog_size', 'declared_monthly_revenue']].describe())"
      ],
      "metadata": {
        "colab": {
          "base_uri": "https://localhost:8080/"
        },
        "id": "ID1tlZam0OID",
        "outputId": "6cbc4645-20f2-41c5-ba1d-6821a7bbf9e8"
      },
      "execution_count": 46,
      "outputs": [
        {
          "output_type": "stream",
          "name": "stdout",
          "text": [
            "<class 'pandas.core.frame.DataFrame'>\n",
            "Index: 45 entries, 215 to 7983\n",
            "Data columns (total 2 columns):\n",
            " #   Column                         Non-Null Count  Dtype  \n",
            "---  ------                         --------------  -----  \n",
            " 0   declared_product_catalog_size  45 non-null     float64\n",
            " 1   declared_monthly_revenue       45 non-null     float64\n",
            "dtypes: float64(2)\n",
            "memory usage: 1.1 KB\n",
            "None\n",
            "      declared_product_catalog_size  declared_monthly_revenue\n",
            "215                          2000.0                  100000.0\n",
            "420                            15.0                   20000.0\n",
            "508                           120.0                    6000.0\n",
            "681                          1000.0                  180000.0\n",
            "820                            50.0                   30000.0\n",
            "912                             4.0                       6.0\n",
            "1124                          400.0                  100000.0\n",
            "1178                          800.0                  100000.0\n",
            "1281                          100.0                  150000.0\n",
            "1329                           50.0                   10000.0\n",
            "       declared_product_catalog_size  declared_monthly_revenue\n",
            "count                      45.000000              4.500000e+01\n",
            "mean                      227.488889              1.372978e+06\n",
            "std                       357.144395              7.507545e+06\n",
            "min                         2.000000              6.000000e+00\n",
            "25%                        40.000000              1.500000e+04\n",
            "50%                        75.000000              5.000000e+04\n",
            "75%                       300.000000              1.300000e+05\n",
            "max                      2000.000000              5.000000e+07\n"
          ]
        }
      ]
    },
    {
      "cell_type": "code",
      "source": [
        "df_clean['declared_product_catalog_size'] = df_clean['declared_product_catalog_size'].replace('[^0-9.]', '', regex=True)\n",
        "df_clean['declared_monthly_revenue'] = df_clean['declared_monthly_revenue'].replace('[^0-9.]', '', regex=True)\n",
        "\n",
        "# Convert to numeric\n",
        "df_clean['declared_product_catalog_size'] = pd.to_numeric(deals['declared_product_catalog_size'], errors='coerce')\n",
        "df_clean['declared_monthly_revenue'] = pd.to_numeric(deals['declared_monthly_revenue'], errors='coerce')\n",
        "\n",
        "# Drop rows with missing or zero values\n",
        "df_clean = df_clean.dropna(subset=['declared_product_catalog_size', 'declared_monthly_revenue'])\n",
        "df_clean = df_clean[(df_clean['declared_product_catalog_size'] > 0) & (df_clean['declared_monthly_revenue'] > 0)]\n",
        "\n",
        "print(df_clean[['declared_product_catalog_size', 'declared_monthly_revenue']].describe())"
      ],
      "metadata": {
        "colab": {
          "base_uri": "https://localhost:8080/"
        },
        "id": "Ab0lO-qE0cuY",
        "outputId": "f8e1100b-1e2d-472e-a791-20077d662207"
      },
      "execution_count": 47,
      "outputs": [
        {
          "output_type": "stream",
          "name": "stdout",
          "text": [
            "       declared_product_catalog_size  declared_monthly_revenue\n",
            "count                            1.0                       1.0\n",
            "mean                           100.0                  500000.0\n",
            "std                              NaN                       NaN\n",
            "min                            100.0                  500000.0\n",
            "25%                            100.0                  500000.0\n",
            "50%                            100.0                  500000.0\n",
            "75%                            100.0                  500000.0\n",
            "max                            100.0                  500000.0\n"
          ]
        }
      ]
    },
    {
      "cell_type": "markdown",
      "source": [
        "Seperate Converted vs Non Converted"
      ],
      "metadata": {
        "id": "l7Iukzvy4MXs"
      }
    },
    {
      "cell_type": "code",
      "source": [
        "converted = deals[deals['has_company'] == 1]\n",
        "not_converted = deals[deals['has_company'] == 0]"
      ],
      "metadata": {
        "id": "TbY5xh8C1xeI"
      },
      "execution_count": 48,
      "outputs": []
    },
    {
      "cell_type": "markdown",
      "source": [
        "Hypothesis 1: Catalog Size vs Conversion (Independent t-test)"
      ],
      "metadata": {
        "id": "jxG_1sk7vmMI"
      }
    },
    {
      "cell_type": "code",
      "source": [
        "t_stat1, p_val1 = stats.ttest_ind(converted['declared_product_catalog_size'],\n",
        "                                  not_converted['declared_product_catalog_size'],\n",
        "                                  equal_var=False, nan_policy='omit')"
      ],
      "metadata": {
        "id": "oVHLXR5yvfnl"
      },
      "execution_count": 49,
      "outputs": []
    },
    {
      "cell_type": "markdown",
      "source": [
        "Hypothesis 2: Declared Monthly Revenue vs Conversion (Independent t-test)"
      ],
      "metadata": {
        "id": "BI5hpHpovzhf"
      }
    },
    {
      "cell_type": "code",
      "source": [
        "t_stat2, p_val2 = stats.ttest_ind(converted['declared_monthly_revenue'],\n",
        "                                  not_converted['declared_monthly_revenue'],\n",
        "                                  equal_var=False, nan_policy='omit')"
      ],
      "metadata": {
        "id": "HlJz9lKav4hw"
      },
      "execution_count": 50,
      "outputs": []
    },
    {
      "cell_type": "markdown",
      "source": [
        "Hypothesis 3: Lead Source vs Conversion (Chi-square test)"
      ],
      "metadata": {
        "id": "nn1Sp14lv9X9"
      }
    },
    {
      "cell_type": "code",
      "source": [
        "df_clean['lead_type'] = df_clean['lead_type'].astype(str)\n",
        "contingency_table = pd.crosstab(df_clean['lead_type'], df_clean['has_company'])\n",
        "if contingency_table.shape[0] > 1 and contingency_table.shape[1] > 1:\n",
        "  chi2, p_val3, dof, exp = stats.chi2_contingency(contingency_table)"
      ],
      "metadata": {
        "id": "_nOl5pYcwHIH"
      },
      "execution_count": 51,
      "outputs": []
    },
    {
      "cell_type": "markdown",
      "source": [
        "Hypothesis Testing"
      ],
      "metadata": {
        "id": "fGBbbYk03_3e"
      }
    },
    {
      "cell_type": "code",
      "source": [
        "print(\"\\n--- Hypothesis Testing Results ---\")\n",
        "print(f\"H1: Catalog Size vs Conversion → t-stat = {t_stat1:.3f}, p-value = {p_val1:.4f}\")\n",
        "print(f\"H2: Monthly Revenue vs Conversion → t-stat = {t_stat2:.3f}, p-value = {p_val2:.4f}\")\n",
        "print(f\"H3: Lead Source vs Conversion → Chi² = {chi2:.3f}, p-value = {p_val3:.4f}\")"
      ],
      "metadata": {
        "colab": {
          "base_uri": "https://localhost:8080/"
        },
        "id": "F8TRUPqRwLQI",
        "outputId": "11493dab-1233-4f71-d3a7-cd3afdb646a5"
      },
      "execution_count": 52,
      "outputs": [
        {
          "output_type": "stream",
          "name": "stdout",
          "text": [
            "\n",
            "--- Hypothesis Testing Results ---\n",
            "H1: Catalog Size vs Conversion → t-stat = 2.279, p-value = 0.0319\n",
            "H2: Monthly Revenue vs Conversion → t-stat = 1.252, p-value = 0.2157\n",
            "H3: Lead Source vs Conversion → Chi² = 14.483, p-value = 0.0247\n"
          ]
        }
      ]
    },
    {
      "cell_type": "markdown",
      "source": [
        "Interpretation Table"
      ],
      "metadata": {
        "id": "vk2P3ge639iz"
      }
    },
    {
      "cell_type": "code",
      "source": [
        "alpha = 0.05\n",
        "summary = pd.DataFrame({\n",
        "    'Hypothesis': [\n",
        "        'H1: Catalog Size vs Conversion',\n",
        "        'H2: Monthly Revenue vs Conversion',\n",
        "        'H3: Lead Source vs Conversion'\n",
        "    ],\n",
        "    'Test Used': ['t-test', 't-test', 'Chi-square'],\n",
        "    'Test Statistic': [t_stat1, t_stat2, chi2],\n",
        "    'p-value': [p_val1, p_val2, p_val3],\n",
        "    'Decision': [\n",
        "        'Reject H₀' if p_val1 < alpha else 'Fail to Reject H₀',\n",
        "        'Reject H₀' if p_val2 < alpha else 'Fail to Reject H₀',\n",
        "        'Reject H₀' if p_val3 < alpha else 'Fail to Reject H₀'\n",
        "    ]\n",
        "})\n",
        "\n",
        "print(\"\\n--- Hypothesis Testing Summary ---\")\n",
        "print(summary.to_string(index=False))"
      ],
      "metadata": {
        "colab": {
          "base_uri": "https://localhost:8080/"
        },
        "id": "g8SqLyOY3fqa",
        "outputId": "44ca2dd0-3e9a-4889-b2af-12c0e4505639"
      },
      "execution_count": 53,
      "outputs": [
        {
          "output_type": "stream",
          "name": "stdout",
          "text": [
            "\n",
            "--- Hypothesis Testing Summary ---\n",
            "                       Hypothesis  Test Used  Test Statistic  p-value          Decision\n",
            "   H1: Catalog Size vs Conversion     t-test        2.279405 0.031908         Reject H₀\n",
            "H2: Monthly Revenue vs Conversion     t-test        1.252022 0.215674 Fail to Reject H₀\n",
            "    H3: Lead Source vs Conversion Chi-square       14.482759 0.024685         Reject H₀\n"
          ]
        }
      ]
    }
  ]
}